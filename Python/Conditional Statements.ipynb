{
 "cells": [
  {
   "cell_type": "code",
   "execution_count": 1,
   "id": "5a6fee69",
   "metadata": {},
   "outputs": [
    {
     "name": "stdout",
     "output_type": "stream",
     "text": [
      "B > A\n"
     ]
    }
   ],
   "source": [
    "a = 40\n",
    "b = 80\n",
    "if b > a:\n",
    "    print(\"B > A\")"
   ]
  },
  {
   "cell_type": "code",
   "execution_count": 2,
   "id": "53b728a7",
   "metadata": {},
   "outputs": [
    {
     "name": "stdout",
     "output_type": "stream",
     "text": [
      "A and B are equal\n"
     ]
    }
   ],
   "source": [
    "# elif statement\n",
    "a = 40\n",
    "b = 40\n",
    "if b > a:\n",
    "    print(\"B greater than A\")\n",
    "elif a == b:\n",
    "    print(\"A and B are equal\")"
   ]
  },
  {
   "cell_type": "code",
   "execution_count": 3,
   "id": "1f0b5760",
   "metadata": {},
   "outputs": [
    {
     "name": "stdout",
     "output_type": "stream",
     "text": [
      "OK\n"
     ]
    }
   ],
   "source": [
    "# else statement\n",
    "a = 20\n",
    "b = 10\n",
    "if b > a:\n",
    "    print(\"B\")\n",
    "elif a == b:\n",
    "    print(\"A\")\n",
    "else:\n",
    "    print(\"OK\")"
   ]
  },
  {
   "cell_type": "code",
   "execution_count": 4,
   "id": "3e80d0b8",
   "metadata": {},
   "outputs": [
    {
     "name": "stdout",
     "output_type": "stream",
     "text": [
      "Above ten\n",
      "Above 20\n"
     ]
    }
   ],
   "source": [
    "#Nested if\n",
    "x = 51\n",
    "if x > 10:\n",
    "    print(\"Above ten\")\n",
    "    if x > 20:\n",
    "        print(\"Above 20\")\n",
    "    else:\n",
    "        print(\"Not\")"
   ]
  },
  {
   "cell_type": "code",
   "execution_count": null,
   "id": "64f76164",
   "metadata": {},
   "outputs": [],
   "source": []
  }
 ],
 "metadata": {
  "kernelspec": {
   "display_name": "Python 3 (ipykernel)",
   "language": "python",
   "name": "python3"
  },
  "language_info": {
   "codemirror_mode": {
    "name": "ipython",
    "version": 3
   },
   "file_extension": ".py",
   "mimetype": "text/x-python",
   "name": "python",
   "nbconvert_exporter": "python",
   "pygments_lexer": "ipython3",
   "version": "3.9.7"
  }
 },
 "nbformat": 4,
 "nbformat_minor": 5
}
