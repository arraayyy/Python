{
 "cells": [
  {
   "cell_type": "code",
   "execution_count": 1,
   "id": "d8413547",
   "metadata": {},
   "outputs": [],
   "source": [
    "# Create a Dictionary called countries_cities\n",
    "\n",
    "countries_cities = {\n",
    "    \"United Kingdom\" : \"London\",\n",
    "    \"United States\"  : \"New York\",\n",
    "    \"Belgium\"        : \"Brussels\",\n",
    "    \"Philippines\"    : \"Manila\",\n",
    "    \"Italy\"          : \"Rome\",\n",
    "    \"Egypt\"          : \"Cairo\"\n",
    "}"
   ]
  },
  {
   "cell_type": "raw",
   "id": "1ff18366",
   "metadata": {},
   "source": [
    "countries_cities[\"Italy\"]"
   ]
  },
  {
   "cell_type": "code",
   "execution_count": 2,
   "id": "84a4bcf5",
   "metadata": {},
   "outputs": [
    {
     "data": {
      "text/plain": [
       "'Rome'"
      ]
     },
     "execution_count": 2,
     "metadata": {},
     "output_type": "execute_result"
    }
   ],
   "source": [
    "countries_cities[\"Italy\"]"
   ]
  },
  {
   "cell_type": "code",
   "execution_count": 3,
   "id": "53a2a2a3",
   "metadata": {},
   "outputs": [
    {
     "data": {
      "text/plain": [
       "'Cairo'"
      ]
     },
     "execution_count": 3,
     "metadata": {},
     "output_type": "execute_result"
    }
   ],
   "source": [
    "countries_cities.get(\"Egypt\") # Returns the value of a specified key"
   ]
  },
  {
   "cell_type": "code",
   "execution_count": 4,
   "id": "454a750a",
   "metadata": {},
   "outputs": [],
   "source": [
    "# Change the value in a dictionary\n",
    "countries_cities[\"Manila\"] = \"Cebu\""
   ]
  },
  {
   "cell_type": "code",
   "execution_count": 5,
   "id": "6d097958",
   "metadata": {},
   "outputs": [
    {
     "data": {
      "text/plain": [
       "'Cebu'"
      ]
     },
     "execution_count": 5,
     "metadata": {},
     "output_type": "execute_result"
    }
   ],
   "source": [
    "countries_cities[\"Manila\"]"
   ]
  },
  {
   "cell_type": "code",
   "execution_count": 7,
   "id": "56b7fb80",
   "metadata": {},
   "outputs": [],
   "source": [
    "# Add item to the dictionary\n",
    "countries_cities[\"Japan\"] = \"Tokyo\""
   ]
  },
  {
   "cell_type": "code",
   "execution_count": 8,
   "id": "29636528",
   "metadata": {},
   "outputs": [
    {
     "name": "stdout",
     "output_type": "stream",
     "text": [
      "{'United Kingdom': 'London', 'United States': 'New York', 'Belgium': 'Brussels', 'Philippines': 'Manila', 'Italy': 'Rome', 'Egypt': 'Cairo', 'Manila': 'Cebu', 'Japan': 'Tokyo'}\n"
     ]
    }
   ],
   "source": [
    "print(countries_cities)"
   ]
  },
  {
   "cell_type": "code",
   "execution_count": 10,
   "id": "a44ae165",
   "metadata": {},
   "outputs": [
    {
     "name": "stdout",
     "output_type": "stream",
     "text": [
      "{'United Kingdom': 'London', 'United States': 'New York', 'Belgium': 'Brussels', 'Philippines': 'Manila', 'Italy': 'Rome', 'Egypt': 'Cairo', 'Manila': 'Cebu'}\n"
     ]
    }
   ],
   "source": [
    "#Remove items from dictionary:\n",
    "# Method 1\n",
    "\n",
    "countries_cities.pop(\"Japan\") # removes item with specified key name\n",
    "\n",
    "print(countries_cities)"
   ]
  },
  {
   "cell_type": "code",
   "execution_count": 13,
   "id": "cd80498a",
   "metadata": {},
   "outputs": [
    {
     "name": "stdout",
     "output_type": "stream",
     "text": [
      "{'United Kingdom': 'London', 'United States': 'New York', 'Belgium': 'Brussels', 'Italy': 'Rome', 'Egypt': 'Cairo'}\n"
     ]
    }
   ],
   "source": [
    "#Remove items from dictionary:\n",
    "# Method 2:\n",
    "\n",
    "del countries_cities[\"Philippines\"] #removes item with specified key name\n",
    "print(countries_cities)"
   ]
  },
  {
   "cell_type": "code",
   "execution_count": 14,
   "id": "c5251981",
   "metadata": {},
   "outputs": [
    {
     "name": "stdout",
     "output_type": "stream",
     "text": [
      "{'United Kingdom': 'London', 'United States': 'New York', 'Belgium': 'Brussels', 'Italy': 'Rome'}\n"
     ]
    }
   ],
   "source": [
    "#Remove items from dictionary:\n",
    "# Method 3:\n",
    "\n",
    "countries_cities.popitem() # removes the last insesrted item\n",
    "print(countries_cities)"
   ]
  },
  {
   "cell_type": "code",
   "execution_count": 16,
   "id": "7c95d219",
   "metadata": {},
   "outputs": [
    {
     "name": "stdout",
     "output_type": "stream",
     "text": [
      "United Kingdom\n",
      "United States\n",
      "Belgium\n",
      "Italy\n"
     ]
    }
   ],
   "source": [
    "# Looping through the dictionaries\n",
    "for deft in countries_cities: #prints just keys\n",
    "    print(deft)"
   ]
  },
  {
   "cell_type": "code",
   "execution_count": 17,
   "id": "c1434ac9",
   "metadata": {},
   "outputs": [
    {
     "name": "stdout",
     "output_type": "stream",
     "text": [
      "London\n",
      "New York\n",
      "Brussels\n",
      "Rome\n"
     ]
    }
   ],
   "source": [
    "# Looping through the dictionaries\n",
    "for deft in countries_cities.values(): #prints just values\n",
    "    print(deft)"
   ]
  },
  {
   "cell_type": "code",
   "execution_count": 18,
   "id": "d81ac443",
   "metadata": {},
   "outputs": [
    {
     "name": "stdout",
     "output_type": "stream",
     "text": [
      "United Kingdom London\n",
      "United States New York\n",
      "Belgium Brussels\n",
      "Italy Rome\n"
     ]
    }
   ],
   "source": [
    "# Looping through the dictionaries\n",
    "for x, y in countries_cities.items(): # prints keys and values\n",
    "    print(x,y)"
   ]
  },
  {
   "cell_type": "code",
   "execution_count": 19,
   "id": "00febbda",
   "metadata": {},
   "outputs": [
    {
     "name": "stdout",
     "output_type": "stream",
     "text": [
      "4\n"
     ]
    }
   ],
   "source": [
    "# Length of the dictionary\n",
    "print(len(countries_cities))"
   ]
  },
  {
   "cell_type": "code",
   "execution_count": 20,
   "id": "554f2a31",
   "metadata": {},
   "outputs": [],
   "source": [
    "# Nested Dictionaries: A dictionary can also contain many dictionaries\n",
    "family = {\n",
    "    \"firstchild\" : {\n",
    "        \"name\" : \"Roe Ann\",\n",
    "        \"age\"  : 20\n",
    "    },\n",
    "    \"second\"     : {\n",
    "        \"name\" : \"Kim\",\n",
    "        \"age\"  : 18\n",
    "    },\n",
    "}"
   ]
  },
  {
   "cell_type": "code",
   "execution_count": 21,
   "id": "9e92451b",
   "metadata": {},
   "outputs": [
    {
     "data": {
      "text/plain": [
       "{'name': 'Kim', 'age': 18}"
      ]
     },
     "execution_count": 21,
     "metadata": {},
     "output_type": "execute_result"
    }
   ],
   "source": [
    "family[\"second\"]"
   ]
  },
  {
   "cell_type": "code",
   "execution_count": 22,
   "id": "3a5567de",
   "metadata": {},
   "outputs": [],
   "source": [
    "# Clear a dictionary\n",
    "family.clear()"
   ]
  },
  {
   "cell_type": "code",
   "execution_count": 23,
   "id": "008721de",
   "metadata": {},
   "outputs": [
    {
     "data": {
      "text/plain": [
       "{}"
      ]
     },
     "execution_count": 23,
     "metadata": {},
     "output_type": "execute_result"
    }
   ],
   "source": [
    "family"
   ]
  },
  {
   "cell_type": "code",
   "execution_count": null,
   "id": "f850ba92",
   "metadata": {},
   "outputs": [],
   "source": []
  }
 ],
 "metadata": {
  "kernelspec": {
   "display_name": "Python 3 (ipykernel)",
   "language": "python",
   "name": "python3"
  },
  "language_info": {
   "codemirror_mode": {
    "name": "ipython",
    "version": 3
   },
   "file_extension": ".py",
   "mimetype": "text/x-python",
   "name": "python",
   "nbconvert_exporter": "python",
   "pygments_lexer": "ipython3",
   "version": "3.9.7"
  }
 },
 "nbformat": 4,
 "nbformat_minor": 5
}
