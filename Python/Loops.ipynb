{
 "cells": [
  {
   "cell_type": "code",
   "execution_count": 1,
   "id": "f7f62c62",
   "metadata": {},
   "outputs": [
    {
     "name": "stdout",
     "output_type": "stream",
     "text": [
      "1\n",
      "2\n",
      "3\n",
      "4\n",
      "5\n",
      "6\n"
     ]
    }
   ],
   "source": [
    "# while loop\n",
    "i = 1\n",
    "while i < 7:\n",
    "    print(i)\n",
    "    i += 1\n",
    "\n",
    "    # Note: Remember to increment i, or else the loop will continue forever\n",
    "    # The while loop requires relevant variables to be ready, in this example\n",
    "    # We need to define an indexing variable, i , which is set to 1."
   ]
  },
  {
   "cell_type": "code",
   "execution_count": 3,
   "id": "17780227",
   "metadata": {},
   "outputs": [
    {
     "name": "stdout",
     "output_type": "stream",
     "text": [
      "1\n",
      "2\n",
      "3\n",
      "4\n"
     ]
    }
   ],
   "source": [
    "# break statement we can stop the loop even if the condition is true\n",
    "\n",
    "i = 1\n",
    "while i < 7:\n",
    "    print(i)\n",
    "    if(i == 4):\n",
    "        break\n",
    "    i += 1"
   ]
  },
  {
   "cell_type": "code",
   "execution_count": 4,
   "id": "3fc60c1e",
   "metadata": {},
   "outputs": [
    {
     "name": "stdout",
     "output_type": "stream",
     "text": [
      "1\n",
      "2\n",
      "3\n",
      "5\n",
      "6\n",
      "7\n"
     ]
    }
   ],
   "source": [
    "# continue statement we can stop the current iteration, and continue with the next\n",
    "i = 0\n",
    "while i < 7:\n",
    "    i += 1\n",
    "    if i == 4:\n",
    "        continue\n",
    "    print(i)\n",
    "    \n",
    "# Note: number 4 is missing in the result"
   ]
  },
  {
   "cell_type": "code",
   "execution_count": 5,
   "id": "11e8b4ea",
   "metadata": {},
   "outputs": [
    {
     "name": "stdout",
     "output_type": "stream",
     "text": [
      "apple\n",
      "banana\n",
      "cherry\n",
      "kiwi\n"
     ]
    }
   ],
   "source": [
    "# For Loops\n",
    "\n",
    "fruits = [\"apple\", \"banana\", \"cherry\", \"kiwi\"]\n",
    "for x in fruits:\n",
    "    print(x)"
   ]
  },
  {
   "cell_type": "code",
   "execution_count": 6,
   "id": "03867568",
   "metadata": {},
   "outputs": [
    {
     "name": "stdout",
     "output_type": "stream",
     "text": [
      "s\n",
      "t\n",
      "r\n",
      "a\n",
      "w\n",
      "b\n",
      "e\n",
      "r\n",
      "r\n",
      "y\n"
     ]
    }
   ],
   "source": [
    "for x in \"strawberry\":\n",
    "    print(x)"
   ]
  },
  {
   "cell_type": "code",
   "execution_count": 7,
   "id": "2a9c856d",
   "metadata": {},
   "outputs": [
    {
     "name": "stdout",
     "output_type": "stream",
     "text": [
      "red apple\n",
      "red banana\n",
      "red cherry\n",
      "red kiwi\n",
      "big apple\n",
      "big banana\n",
      "big cherry\n",
      "big kiwi\n",
      "tasty apple\n",
      "tasty banana\n",
      "tasty cherry\n",
      "tasty kiwi\n"
     ]
    }
   ],
   "source": [
    "adj = [\"red\", \"big\", \"tasty\"]\n",
    "fruits = [\"apple\", \"banana\", \"cherry\", \"kiwi\"]\n",
    "\n",
    "for x in adj:\n",
    "    for y in fruits:\n",
    "        print(x,y)"
   ]
  },
  {
   "cell_type": "code",
   "execution_count": null,
   "id": "c2ebdb80",
   "metadata": {},
   "outputs": [],
   "source": []
  }
 ],
 "metadata": {
  "kernelspec": {
   "display_name": "Python 3 (ipykernel)",
   "language": "python",
   "name": "python3"
  },
  "language_info": {
   "codemirror_mode": {
    "name": "ipython",
    "version": 3
   },
   "file_extension": ".py",
   "mimetype": "text/x-python",
   "name": "python",
   "nbconvert_exporter": "python",
   "pygments_lexer": "ipython3",
   "version": "3.9.7"
  }
 },
 "nbformat": 4,
 "nbformat_minor": 5
}
