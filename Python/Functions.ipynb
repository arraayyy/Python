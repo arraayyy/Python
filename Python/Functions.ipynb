{
 "cells": [
  {
   "cell_type": "code",
   "execution_count": 2,
   "id": "7dc3c1a1",
   "metadata": {},
   "outputs": [
    {
     "name": "stdout",
     "output_type": "stream",
     "text": [
      "9\n"
     ]
    }
   ],
   "source": [
    "def sum(x, y):# x, y are parameters\n",
    "    print(x + y)\n",
    "\n",
    "sum(4,5) # 4,5 are arguments"
   ]
  },
  {
   "cell_type": "code",
   "execution_count": 7,
   "id": "760d5b6b",
   "metadata": {},
   "outputs": [
    {
     "name": "stdout",
     "output_type": "stream",
     "text": [
      "HelloBlueline\n",
      "HelloJohn\n",
      "HelloDoe\n"
     ]
    }
   ],
   "source": [
    "def student_name(names = \"Blueline\"):\n",
    "    print(\"Hello\" + names)\n",
    "    \n",
    "    #Calling the function with and without arguments\n",
    "    \n",
    "student_name()\n",
    "student_name(\"John\")\n",
    "student_name(\"Doe\")"
   ]
  },
  {
   "cell_type": "code",
   "execution_count": null,
   "id": "ddf6610e",
   "metadata": {},
   "outputs": [],
   "source": []
  }
 ],
 "metadata": {
  "kernelspec": {
   "display_name": "Python 3 (ipykernel)",
   "language": "python",
   "name": "python3"
  },
  "language_info": {
   "codemirror_mode": {
    "name": "ipython",
    "version": 3
   },
   "file_extension": ".py",
   "mimetype": "text/x-python",
   "name": "python",
   "nbconvert_exporter": "python",
   "pygments_lexer": "ipython3",
   "version": "3.9.7"
  }
 },
 "nbformat": 4,
 "nbformat_minor": 5
}
